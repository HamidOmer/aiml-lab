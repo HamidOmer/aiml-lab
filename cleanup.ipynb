{
 "cells": [
  {
   "cell_type": "code",
   "execution_count": null,
   "metadata": {},
   "outputs": [],
   "source": [
    "import pandas as pd\n",
    "import boto3\n",
    "import time\n",
    "import os\n",
    "\n",
    "region = os.environ[\"AWS_DEFAULT_REGION\"]\n",
    "accessKey = os.environ[\"AWS_ACCESS_KEY_ID\"]\n",
    "secretKey = os.environ[\"AWS_SECRET_ACCESS_KEY\"]\n",
    "\n",
    "def get_assumeRoleCreds(accountId, roleName):\n",
    "    stsClient = boto3.client(\n",
    "        \"sts\",\n",
    "        aws_access_key_id=accessKey,\n",
    "        aws_secret_access_key=secretKey\n",
    "    )\n",
    "\n",
    "    roleARNString = \"arn:aws:iam::{0}:role/{1}\".format(accountId,roleName)\n",
    "    roleSessionName = \"{}-{}\".format(accountId,roleName)\n",
    "    response = stsClient.assume_role(\n",
    "        RoleArn=roleARNString,\n",
    "        RoleSessionName=roleSessionName\n",
    "    )\n",
    "    print (\"\")\n",
    "    print (\"Assuming role {} in child account: {}\".format(roleName,accountId))\n",
    "    return (response)"
   ]
  },
  {
   "cell_type": "code",
   "execution_count": null,
   "metadata": {},
   "outputs": [],
   "source": [
    "def delete_sagemaker_notebook_instances(sagemaker):\n",
    "    response = sagemaker.list_notebook_instances()\n",
    "    while 'NotebookInstances' in response and response['NotebookInstances']:\n",
    "        for name in [res['NotebookInstanceName'] for res in response['NotebookInstances']]:\n",
    "            try:\n",
    "                describe = sagemaker.describe_notebook_instance(\n",
    "                    NotebookInstanceName=name\n",
    "                )\n",
    "            except sagemaker.exceptions.ClientError as e:\n",
    "                # our notebook has probably been deleted\n",
    "                print('NotebookInstance error {} -- {}', name, e)\n",
    "                break\n",
    "\n",
    "            # for in service instances stop, for stopped instances delete\n",
    "            status = describe['NotebookInstanceStatus']\n",
    "            print('sagemaker notebook instance', name, status)\n",
    "            if status == 'InService':\n",
    "                print('stopping notebook instance', name)\n",
    "                sagemaker.stop_notebook_instance(\n",
    "                    NotebookInstanceName=name\n",
    "                )\n",
    "            elif status == 'Stopped':\n",
    "                print('deleting notebook instance', name)\n",
    "                sagemaker.delete_notebook_instance(\n",
    "                    NotebookInstanceName=name\n",
    "                )\n",
    "            else:\n",
    "                time.sleep(1)\n",
    "        # list the instances again\n",
    "        response = sagemaker.list_notebook_instances()"
   ]
  },
  {
   "cell_type": "code",
   "execution_count": null,
   "metadata": {},
   "outputs": [],
   "source": [
    "def delete_bots(bot, sleep_for=3):\n",
    "    # delete bots\n",
    "    response = bot.get_bots()\n",
    "    if 'bots' in response and response['bots']:\n",
    "        for name in [res['name'] for res in response['bots']]:\n",
    "            print('found bot', name)\n",
    "            aliases = bot.get_bot_aliases(botName=name)\n",
    "            if 'BotAliases' in aliases and aliases['BotAliases']:\n",
    "                for alias in [res['name'] for res in aliases['BotAliases']]:\n",
    "                    print('delete bot alias', alias)\n",
    "                    bot.delete_bot_alias(name=alias, botName=name)\n",
    "                    time.sleep(sleep_for)\n",
    "            bot.delete_bot(name=name)\n",
    "            time.sleep(sleep_for)\n",
    "    else:\n",
    "        print('no bots')\n",
    "    # delete intents\n",
    "    response = bot.get_intents()\n",
    "    if 'intents' in response and response['intents']:\n",
    "        for name in [res['name'] for res in response['intents']]:\n",
    "            response = bot.delete_intent(name=name)\n",
    "            if response['ResponseMetadata']['HTTPStatusCode'] ==204:\n",
    "                print(\"bot intent deleted\", name)\n",
    "            time.sleep(sleep_for)\n",
    "    # delete slot types\n",
    "    response = bot.get_slot_types()\n",
    "    if 'slotTypes' in response and response['slotTypes']:\n",
    "        for name in [res['name'] for res in response['slotTypes']]:\n",
    "            response = bot.delete_slot_type(name=name)\n",
    "            if response['ResponseMetadata']['HTTPStatusCode'] ==204:\n",
    "                print(\"bot slot type deleted\", name)\n",
    "            time.sleep(sleep_for)"
   ]
  },
  {
   "cell_type": "code",
   "execution_count": null,
   "metadata": {},
   "outputs": [],
   "source": [
    "def delete_sagemaker_endpoints(sagemaker):\n",
    "    response = sagemaker.list_endpoints()\n",
    "    if 'Endpoints' in response and response['Endpoints']:\n",
    "        for name in [res['EndpointName'] for res in response['Endpoints']]:\n",
    "            print('deleting sagemaker endpoint', name)\n",
    "            response = sagemaker.delete_endpoint(\n",
    "                EndpointName=name\n",
    "            )\n",
    "    else:\n",
    "        print('no sagemaker endpoints')"
   ]
  },
  {
   "cell_type": "code",
   "execution_count": null,
   "metadata": {},
   "outputs": [],
   "source": [
    "def delete_sagemaker_endpoint_configs(sagemaker):\n",
    "    response = sagemaker.list_endpoint_configs()\n",
    "    if 'EndpointConfigs' in response and response['EndpointConfigs']:\n",
    "        for name in [res['EndpointConfigName'] for res in response['EndpointConfigs']]:\n",
    "            print('deleting sagemaker endpoint config', name)\n",
    "            response = sagemaker.delete_endpoint_config(\n",
    "                EndpointConfigName=name\n",
    "            )\n",
    "    else:\n",
    "        print('no sagemaker endpoint configs')"
   ]
  },
  {
   "cell_type": "code",
   "execution_count": null,
   "metadata": {},
   "outputs": [],
   "source": [
    "def delete_sagemaker_models(sagemaker):\n",
    "    response = sagemaker.list_models()\n",
    "    if 'Models' in response and response['Models']:\n",
    "        for name in [res['ModelName'] for res in response['Models']]:\n",
    "            print('deleting sagemaker model', name)\n",
    "            response = sagemaker.delete_model(\n",
    "                ModelName=name\n",
    "            )\n",
    "    else:\n",
    "        print('no models')"
   ]
  },
  {
   "cell_type": "code",
   "execution_count": null,
   "metadata": {},
   "outputs": [],
   "source": [
    "def delete_rekognition_collections(rekognition):\n",
    "    response = rekognition.list_collections()\n",
    "    if 'CollectionIds' in response and response['CollectionIds']:\n",
    "        for name in response['CollectionIds']:\n",
    "            print('deleting rekognition collection', name)\n",
    "            response = rekognition.delete_collection(\n",
    "                CollectionId=name\n",
    "            )\n",
    "    else:\n",
    "        print('no rekognition collections')"
   ]
  },
  {
   "cell_type": "code",
   "execution_count": null,
   "metadata": {},
   "outputs": [],
   "source": [
    "def delete_dynamodb_tables(dynamodb):\n",
    "    response = dynamodb.list_tables()\n",
    "    if 'TableNames' in response and response['TableNames']:\n",
    "        for name in response['TableNames']:\n",
    "            print('deleting dynamodb table', name)\n",
    "            response = dynamodb.delete_table(\n",
    "                TableName=name\n",
    "            )\n",
    "    else:\n",
    "        print('no dynamodb tables')    "
   ]
  },
  {
   "cell_type": "code",
   "execution_count": null,
   "metadata": {},
   "outputs": [],
   "source": [
    "def cleanup(sts_credentials, region):\n",
    "    # clean up sagemaker\n",
    "    sagemaker = boto3.client('sagemaker', region,\n",
    "        aws_access_key_id=sts_credentials['Credentials']['AccessKeyId'],\n",
    "        aws_secret_access_key=sts_credentials['Credentials']['SecretAccessKey'],\n",
    "        aws_session_token=sts_credentials['Credentials']['SessionToken']\n",
    "    )\n",
    "    delete_sagemaker_notebook_instances(sagemaker)\n",
    "    delete_sagemaker_endpoints(sagemaker)\n",
    "    delete_sagemaker_endpoint_configs(sagemaker)\n",
    "    delete_sagemaker_models(sagemaker)\n",
    "    \n",
    "    # clean up lex bots/slots/intents\n",
    "    bot = boto3.client('lex-models',\n",
    "        aws_access_key_id=sts_credentials['Credentials']['AccessKeyId'],\n",
    "        aws_secret_access_key=sts_credentials['Credentials']['SecretAccessKey'],\n",
    "        aws_session_token=sts_credentials['Credentials']['SessionToken']\n",
    "    )\n",
    "    delete_bots(bot)\n",
    "\n",
    "    # clean up rekognition\n",
    "    rekognition = boto3.client('rekognition', region,\n",
    "        aws_access_key_id=sts_credentials['Credentials']['AccessKeyId'],\n",
    "        aws_secret_access_key=sts_credentials['Credentials']['SecretAccessKey'],\n",
    "        aws_session_token=sts_credentials['Credentials']['SessionToken']\n",
    "    )    \n",
    "    delete_rekognition_collections(rekognition)\n",
    "    \n",
    "    # delete dynamodb tables\n",
    "    dynamodb = boto3.client('dynamodb', region,\n",
    "        aws_access_key_id=sts_credentials['Credentials']['AccessKeyId'],\n",
    "        aws_secret_access_key=sts_credentials['Credentials']['SecretAccessKey'],\n",
    "        aws_session_token=sts_credentials['Credentials']['SessionToken']\n",
    "    )    \n",
    "    delete_dynamodb_tables(dynamodb)"
   ]
  },
  {
   "cell_type": "code",
   "execution_count": null,
   "metadata": {},
   "outputs": [],
   "source": [
    "accountListFile = \"credentials.csv\"\n",
    "\n",
    "df = pd.read_csv(accountListFile, converters={'accountID': lambda x: str(x)})\n",
    "df.head(1)"
   ]
  },
  {
   "cell_type": "code",
   "execution_count": null,
   "metadata": {},
   "outputs": [],
   "source": [
    "complete = []"
   ]
  },
  {
   "cell_type": "code",
   "execution_count": null,
   "metadata": {},
   "outputs": [],
   "source": [
    "roleName = \"OrganizationAccountAccessRole\"\n",
    "\n",
    "for accountId in df['accountID']:\n",
    "    if accountId in complete:\n",
    "        print('skipping', accountId)\n",
    "        continue\n",
    "    \n",
    "    # assume role\n",
    "    sts_credentials = get_assumeRoleCreds(accountId, roleName)\n",
    "    cleanup(sts_credentials, region)\n",
    "    \n",
    "    complete.append(accountId)\n",
    "    print('complete', accountId)    "
   ]
  },
  {
   "cell_type": "code",
   "execution_count": null,
   "metadata": {},
   "outputs": [],
   "source": [
    "complete"
   ]
  }
 ],
 "metadata": {
  "kernelspec": {
   "display_name": "Python 3",
   "language": "python",
   "name": "python3"
  },
  "language_info": {
   "codemirror_mode": {
    "name": "ipython",
    "version": 3
   },
   "file_extension": ".py",
   "mimetype": "text/x-python",
   "name": "python",
   "nbconvert_exporter": "python",
   "pygments_lexer": "ipython3",
   "version": "3.6.5"
  }
 },
 "nbformat": 4,
 "nbformat_minor": 2
}
