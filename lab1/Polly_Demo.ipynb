{
 "cells": [
  {
   "cell_type": "markdown",
   "metadata": {},
   "source": [
    "# Amazon Polly Demo\n",
    "\n",
    "### Convert text to speech with Amazon Polly"
   ]
  },
  {
   "cell_type": "markdown",
   "metadata": {},
   "source": [
    "***\n",
    "Copyright [2017]-[2018] Amazon.com, Inc. or its affiliates. All Rights Reserved.\n",
    "\n",
    "Licensed under the Apache License, Version 2.0 (the \"License\"). You may not use this file except in compliance with the License. A copy of the License is located at\n",
    "\n",
    "http://aws.amazon.com/apache2.0/\n",
    "\n",
    "or in the \"license\" file accompanying this file. This file is distributed on an \"AS IS\" BASIS, WITHOUT WARRANTIES OR CONDITIONS OF ANY KIND, either express or implied. See the License for the specific language governing permissions and limitations under the License.\n",
    "***"
   ]
  },
  {
   "cell_type": "markdown",
   "metadata": {},
   "source": [
    "#### Prerequisites:\n",
    "\n",
    "The user or role that executes the commands must have permissions in AWS Identity and Access Management (IAM) to perform those actions. AWS provides a set of managed policies that help you get started quickly. For our example, you need to apply the following minimum managed policies to your user or role:\n",
    "\n",
    "* `AmazonPollyFullAccess`\n",
    "* `AmazonTranscribeFullAccess`\n",
    "\n",
    "Be aware that we recommend you follow AWS IAM best practices for production implementations, which is out of scope fof this workshop."
   ]
  },
  {
   "cell_type": "markdown",
   "metadata": {},
   "source": [
    "### Examples\n",
    "\n",
    "Generate text for a number of examples"
   ]
  },
  {
   "cell_type": "code",
   "execution_count": null,
   "metadata": {},
   "outputs": [],
   "source": [
    "import boto3\n",
    "import IPython\n",
    "from pprint import pprint\n",
    "\n",
    "polly = boto3.client('polly')"
   ]
  },
  {
   "cell_type": "code",
   "execution_count": null,
   "metadata": {},
   "outputs": [],
   "source": [
    "response = polly.synthesize_speech(\n",
    "    Text=\"It is great to see you today!\",\n",
    "    TextType=\"text\",\n",
    "    OutputFormat=\"mp3\",                                           \n",
    "    VoiceId=\"Emma\")\n",
    "\n",
    "pprint (response)\n",
    "     \n",
    "outfile = \"pollyresponse.mp3\"\n",
    "data = response['AudioStream'].read()\n",
    "\n",
    "with open(outfile,'wb') as f:\n",
    "     f.write(data)\n",
    "IPython.display.Audio(outfile) "
   ]
  },
  {
   "cell_type": "markdown",
   "metadata": {},
   "source": [
    "### SSML\n",
    "\n",
    "Define [SSML](https://docs.aws.amazon.com/polly/latest/dg/supported-ssml.html) tags to add breaks, emphasis elements,  increase the speed (prosody), or use phoneme to spell out words "
   ]
  },
  {
   "cell_type": "code",
   "execution_count": null,
   "metadata": {},
   "outputs": [],
   "source": [
    "response = polly.synthesize_speech(\n",
    "    Text='<speak>I am fine,<break/> thank you.<break strength=\"x-strong\"/> \\\n",
    "          <prosody rate=\"+20%\">What can I do for you?</prosody></speak>',\n",
    "    TextType=\"ssml\",\n",
    "    OutputFormat=\"mp3\",                                           \n",
    "    VoiceId=\"Emma\")\n",
    "     \n",
    "outfile = \"pollyresponse.mp3\"\n",
    "data = response['AudioStream'].read()\n",
    "\n",
    "with open(outfile,'wb') as f:\n",
    "     f.write(data)\n",
    "IPython.display.Audio(outfile) "
   ]
  },
  {
   "cell_type": "code",
   "execution_count": null,
   "metadata": {},
   "outputs": [],
   "source": [
    "response = polly.synthesize_speech(\n",
    "    Text='''<speak>\n",
    "     You say, <phoneme alphabet=\"ipa\" ph=\"pɪˈkɑːn\">pecan</phoneme>. \n",
    "     I say, <phoneme alphabet=\"ipa\" ph=\"ˈpi.kæn\">pecan</phoneme>.\n",
    "    </speak>''',\n",
    "    TextType=\"ssml\",\n",
    "    OutputFormat=\"mp3\",                                           \n",
    "    VoiceId=\"Brian\"\n",
    "    )\n",
    "     \n",
    "outfile = \"pollyresponse.mp3\"\n",
    "data = response['AudioStream'].read()\n",
    "\n",
    "with open(outfile,'wb') as f:\n",
    "     f.write(data)\n",
    "IPython.display.Audio(outfile) "
   ]
  },
  {
   "cell_type": "code",
   "execution_count": null,
   "metadata": {},
   "outputs": [],
   "source": [
    "response = polly.synthesize_speech(\n",
    "    Text=\"<speak><phoneme ph='bəːɱ ˈzɛksɪʃ bəˈziːʃən dˈɛ wˈeːʃːəːn dˈɛ haʁdˈn'>Beim sächsisch besiegen die weichen die harten.</phoneme></speak>\",\n",
    "    TextType=\"ssml\",\n",
    "    OutputFormat=\"mp3\",                                           \n",
    "    VoiceId=\"Hans\"\n",
    "    )\n",
    "     \n",
    "outfile = \"pollyresponse.mp3\"\n",
    "data = response['AudioStream'].read()\n",
    "\n",
    "with open(outfile,'wb') as f:\n",
    "     f.write(data)\n",
    "IPython.display.Audio(outfile) "
   ]
  },
  {
   "cell_type": "markdown",
   "metadata": {},
   "source": [
    "### Substitues\n",
    "\n",
    "We can print words that have substitutions when spoken such as for these chemical elments."
   ]
  },
  {
   "cell_type": "code",
   "execution_count": null,
   "metadata": {},
   "outputs": [],
   "source": [
    "response = polly.synthesize_speech(\n",
    "    Text='<speak>My favorite chemical element is <sub alias=\"aluminium\">Al</sub>, \\\n",
    "    but Al prefers <sub alias=\"magnesium\">Mg</sub>.</speak>',\n",
    "    TextType=\"ssml\",\n",
    "    OutputFormat=\"mp3\",                                           \n",
    "    VoiceId=\"Brian\")\n",
    "     \n",
    "outfile = \"pollyresponse.mp3\"\n",
    "data = response['AudioStream'].read()\n",
    "\n",
    "with open(outfile,'wb') as f:\n",
    "     f.write(data)\n",
    "IPython.display.Audio(outfile) "
   ]
  },
  {
   "cell_type": "markdown",
   "metadata": {},
   "source": [
    "We can also register a custom lexicon that can then automatically pick up these substitutions, see also [Managing Lexicons](https://docs.aws.amazon.com/polly/latest/dg/managing-lexicons.html)"
   ]
  },
  {
   "cell_type": "code",
   "execution_count": null,
   "metadata": {},
   "outputs": [],
   "source": [
    "!aws polly put-lexicon --name PollyPSE --content file://PollyPSE.xml"
   ]
  },
  {
   "cell_type": "code",
   "execution_count": null,
   "metadata": {},
   "outputs": [],
   "source": [
    "response = polly.get_lexicon(\n",
    "    Name=\"PollyPSE\")\n",
    "\n",
    "xmlret = response['Lexicon']['Content']\n",
    "   \n",
    "print (xmlret)"
   ]
  },
  {
   "cell_type": "code",
   "execution_count": null,
   "metadata": {},
   "outputs": [],
   "source": [
    "response = polly.synthesize_speech(\n",
    "    Text='My favorite chemical element is Mg',\n",
    "    TextType=\"text\",\n",
    "    OutputFormat=\"mp3\",                                           \n",
    "    VoiceId=\"Brian\",\n",
    "    LexiconNames=[\"PollyPSE\"]\n",
    "    )\n",
    "     \n",
    "outfile = \"pollyresponse.mp3\"\n",
    "data = response['AudioStream'].read()\n",
    "\n",
    "with open(outfile,'wb') as f:\n",
    "     f.write(data)\n",
    "IPython.display.Audio(outfile)"
   ]
  },
  {
   "cell_type": "markdown",
   "metadata": {},
   "source": [
    "## Transcribe\n",
    "\n",
    "Lets take the output of that last polly response to transcribe the text"
   ]
  },
  {
   "cell_type": "code",
   "execution_count": null,
   "metadata": {},
   "outputs": [],
   "source": [
    "import boto3\n",
    "import json\n",
    "import time\n",
    "\n",
    "transcribe = boto3.client('transcribe')\n",
    "s3 = boto3.resource('s3')\n",
    "sts = boto3.client('sts')"
   ]
  },
  {
   "cell_type": "code",
   "execution_count": null,
   "metadata": {},
   "outputs": [],
   "source": [
    "# Get the default bucket\n",
    "account_id = sts.get_caller_identity().get('Account')\n",
    "bucket_name = 'sagemaker-us-east-1-{}'.format(account_id)\n",
    "bucket_name"
   ]
  },
  {
   "cell_type": "markdown",
   "metadata": {},
   "source": [
    "Upload a file to the s3 bucket"
   ]
  },
  {
   "cell_type": "code",
   "execution_count": null,
   "metadata": {},
   "outputs": [],
   "source": [
    "outfile = \"pollyresponse.mp3\"\n",
    "\n",
    "with open(outfile, 'rb') as data:\n",
    "    response = s3.Bucket(bucket_name).put_object(Key=outfile, Body=data)\n",
    "    print(response)"
   ]
  },
  {
   "cell_type": "markdown",
   "metadata": {},
   "source": [
    "### Start Job\n",
    "\n",
    "Start a transcription for a given job name"
   ]
  },
  {
   "cell_type": "code",
   "execution_count": null,
   "metadata": {},
   "outputs": [],
   "source": [
    "job_name = 'job{}'.format(int(time.time()))\n",
    "job_name"
   ]
  },
  {
   "cell_type": "code",
   "execution_count": null,
   "metadata": {},
   "outputs": [],
   "source": [
    "response = transcribe.start_transcription_job(\n",
    "    TranscriptionJobName=job_name,\n",
    "    LanguageCode='en-US',\n",
    "    MediaFormat='mp3',\n",
    "    Media={\n",
    "        'MediaFileUri': 's3://{}/{}'.format(bucket_name, 'pollyresponse.mp3')\n",
    "    },\n",
    "    OutputBucketName=bucket_name,\n",
    ")"
   ]
  },
  {
   "cell_type": "markdown",
   "metadata": {},
   "source": [
    "### Wait for Job\n",
    " \n",
    "Wait for the transcription process to finish, this can take up to a minute"
   ]
  },
  {
   "cell_type": "code",
   "execution_count": null,
   "metadata": {},
   "outputs": [],
   "source": [
    "%%time\n",
    "\n",
    "status = 'IN_PROGRESS'\n",
    "\n",
    "while status == 'IN_PROGRESS':\n",
    "    response = transcribe.get_transcription_job(TranscriptionJobName=job_name)\n",
    "    status = response['TranscriptionJob']['TranscriptionJobStatus']\n",
    "    print(status)\n",
    "    time.sleep(5)\n",
    "    \n",
    "response['TranscriptionJob']['Transcript']"
   ]
  },
  {
   "cell_type": "markdown",
   "metadata": {},
   "source": [
    "### Get Transcription\n",
    "\n",
    "Download the transcription and inspect the results"
   ]
  },
  {
   "cell_type": "code",
   "execution_count": null,
   "metadata": {},
   "outputs": [],
   "source": [
    "transcribe_key = '{}.json'.format(job_name)\n",
    "out_file = 'transcribe.json'\n",
    "\n",
    "with open(out_file, 'wb') as data:\n",
    "    s3.Bucket(bucket_name).download_fileobj(transcribe_key, data)"
   ]
  },
  {
   "cell_type": "code",
   "execution_count": null,
   "metadata": {},
   "outputs": [],
   "source": [
    "with open(out_file, 'rb') as data:\n",
    "    obj = json.load(data)\n",
    "    \n",
    "obj['results']['transcripts']"
   ]
  }
 ],
 "metadata": {
  "kernelspec": {
   "display_name": "conda_python3",
   "language": "python",
   "name": "conda_python3"
  },
  "language_info": {
   "codemirror_mode": {
    "name": "ipython",
    "version": 3
   },
   "file_extension": ".py",
   "mimetype": "text/x-python",
   "name": "python",
   "nbconvert_exporter": "python",
   "pygments_lexer": "ipython3",
   "version": "3.6.5"
  }
 },
 "nbformat": 4,
 "nbformat_minor": 2
}
